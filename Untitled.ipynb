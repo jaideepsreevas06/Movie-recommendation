{
 "cells": [
  {
   "cell_type": "code",
   "execution_count": 1,
   "id": "e242a99f-b999-4e3d-a311-9d1edac15cc8",
   "metadata": {},
   "outputs": [],
   "source": [
    "import numpy as np\n",
    "import pandas as pd"
   ]
  },
  {
   "cell_type": "code",
   "execution_count": 2,
   "id": "e3ed0e25-0c8d-478a-ab99-9b97069f2c37",
   "metadata": {},
   "outputs": [],
   "source": [
    "movies = pd.read_csv('mymoviedb.csv')"
   ]
  },
  {
   "cell_type": "code",
   "execution_count": 3,
   "id": "dc7a7ac1-9fbb-4b2a-a3f5-f58f1f54231f",
   "metadata": {},
   "outputs": [
    {
     "data": {
      "text/html": [
       "<div>\n",
       "<style scoped>\n",
       "    .dataframe tbody tr th:only-of-type {\n",
       "        vertical-align: middle;\n",
       "    }\n",
       "\n",
       "    .dataframe tbody tr th {\n",
       "        vertical-align: top;\n",
       "    }\n",
       "\n",
       "    .dataframe thead th {\n",
       "        text-align: right;\n",
       "    }\n",
       "</style>\n",
       "<table border=\"1\" class=\"dataframe\">\n",
       "  <thead>\n",
       "    <tr style=\"text-align: right;\">\n",
       "      <th></th>\n",
       "      <th>Release_Date</th>\n",
       "      <th>Title</th>\n",
       "      <th>Overview</th>\n",
       "      <th>Popularity</th>\n",
       "      <th>Vote_Count</th>\n",
       "      <th>Vote_Average</th>\n",
       "      <th>Original_Language</th>\n",
       "      <th>Genre</th>\n",
       "      <th>Poster_Url</th>\n",
       "      <th>Unnamed: 9</th>\n",
       "      <th>Unnamed: 10</th>\n",
       "      <th>Unnamed: 11</th>\n",
       "      <th>Unnamed: 12</th>\n",
       "      <th>Unnamed: 13</th>\n",
       "      <th>Unnamed: 14</th>\n",
       "      <th>movie_id</th>\n",
       "    </tr>\n",
       "  </thead>\n",
       "  <tbody>\n",
       "    <tr>\n",
       "      <th>0</th>\n",
       "      <td>15-12-2021</td>\n",
       "      <td>Spider-Man: No Way Home</td>\n",
       "      <td>Peter Parker is unmasked and no longer able to...</td>\n",
       "      <td>5083.954</td>\n",
       "      <td>8940</td>\n",
       "      <td>8.3</td>\n",
       "      <td>en</td>\n",
       "      <td>Action, Adventure, Science Fiction</td>\n",
       "      <td>https://image.tmdb.org/t/p/original/1g0dhYtq4i...</td>\n",
       "      <td>NaN</td>\n",
       "      <td>NaN</td>\n",
       "      <td>NaN</td>\n",
       "      <td>NaN</td>\n",
       "      <td>NaN</td>\n",
       "      <td>NaN</td>\n",
       "      <td>1</td>\n",
       "    </tr>\n",
       "  </tbody>\n",
       "</table>\n",
       "</div>"
      ],
      "text/plain": [
       "  Release_Date                    Title  \\\n",
       "0   15-12-2021  Spider-Man: No Way Home   \n",
       "\n",
       "                                            Overview  Popularity Vote_Count  \\\n",
       "0  Peter Parker is unmasked and no longer able to...    5083.954       8940   \n",
       "\n",
       "  Vote_Average Original_Language                               Genre  \\\n",
       "0          8.3                en  Action, Adventure, Science Fiction   \n",
       "\n",
       "                                          Poster_Url  Unnamed: 9  Unnamed: 10  \\\n",
       "0  https://image.tmdb.org/t/p/original/1g0dhYtq4i...         NaN          NaN   \n",
       "\n",
       "   Unnamed: 11  Unnamed: 12  Unnamed: 13  Unnamed: 14  movie_id  \n",
       "0          NaN          NaN          NaN          NaN         1  "
      ]
     },
     "execution_count": 3,
     "metadata": {},
     "output_type": "execute_result"
    }
   ],
   "source": [
    "movies.head(1)"
   ]
  },
  {
   "cell_type": "code",
   "execution_count": 4,
   "id": "341788cf-47bc-432a-b1d2-30cddccda996",
   "metadata": {},
   "outputs": [],
   "source": [
    " movies = movies[['movie_id','Title','Overview','Genre','Poster_Url','Vote_Average']]"
   ]
  },
  {
   "cell_type": "code",
   "execution_count": 5,
   "id": "e3140129-d7a7-4519-a9e4-4fb336061c9e",
   "metadata": {},
   "outputs": [
    {
     "data": {
      "text/html": [
       "<div>\n",
       "<style scoped>\n",
       "    .dataframe tbody tr th:only-of-type {\n",
       "        vertical-align: middle;\n",
       "    }\n",
       "\n",
       "    .dataframe tbody tr th {\n",
       "        vertical-align: top;\n",
       "    }\n",
       "\n",
       "    .dataframe thead th {\n",
       "        text-align: right;\n",
       "    }\n",
       "</style>\n",
       "<table border=\"1\" class=\"dataframe\">\n",
       "  <thead>\n",
       "    <tr style=\"text-align: right;\">\n",
       "      <th></th>\n",
       "      <th>movie_id</th>\n",
       "      <th>Title</th>\n",
       "      <th>Overview</th>\n",
       "      <th>Genre</th>\n",
       "      <th>Poster_Url</th>\n",
       "      <th>Vote_Average</th>\n",
       "    </tr>\n",
       "  </thead>\n",
       "  <tbody>\n",
       "    <tr>\n",
       "      <th>0</th>\n",
       "      <td>1</td>\n",
       "      <td>Spider-Man: No Way Home</td>\n",
       "      <td>Peter Parker is unmasked and no longer able to...</td>\n",
       "      <td>Action, Adventure, Science Fiction</td>\n",
       "      <td>https://image.tmdb.org/t/p/original/1g0dhYtq4i...</td>\n",
       "      <td>8.3</td>\n",
       "    </tr>\n",
       "    <tr>\n",
       "      <th>1</th>\n",
       "      <td>2</td>\n",
       "      <td>The Batman</td>\n",
       "      <td>In his second year of fighting crime, Batman u...</td>\n",
       "      <td>Crime, Mystery, Thriller</td>\n",
       "      <td>https://image.tmdb.org/t/p/original/74xTEgt7R3...</td>\n",
       "      <td>8.1</td>\n",
       "    </tr>\n",
       "    <tr>\n",
       "      <th>2</th>\n",
       "      <td>3</td>\n",
       "      <td>No Exit</td>\n",
       "      <td>Stranded at a rest stop in the mountains durin...</td>\n",
       "      <td>Thriller</td>\n",
       "      <td>https://image.tmdb.org/t/p/original/vDHsLnOWKl...</td>\n",
       "      <td>6.3</td>\n",
       "    </tr>\n",
       "    <tr>\n",
       "      <th>3</th>\n",
       "      <td>4</td>\n",
       "      <td>Encanto</td>\n",
       "      <td>The tale of an extraordinary family, the Madri...</td>\n",
       "      <td>Animation, Comedy, Family, Fantasy</td>\n",
       "      <td>https://image.tmdb.org/t/p/original/4j0PNHkMr5...</td>\n",
       "      <td>7.7</td>\n",
       "    </tr>\n",
       "    <tr>\n",
       "      <th>4</th>\n",
       "      <td>5</td>\n",
       "      <td>The King's Man</td>\n",
       "      <td>As a collection of history's worst tyrants and...</td>\n",
       "      <td>Action, Adventure, Thriller, War</td>\n",
       "      <td>https://image.tmdb.org/t/p/original/aq4Pwv5Xeu...</td>\n",
       "      <td>7</td>\n",
       "    </tr>\n",
       "  </tbody>\n",
       "</table>\n",
       "</div>"
      ],
      "text/plain": [
       "   movie_id                    Title  \\\n",
       "0         1  Spider-Man: No Way Home   \n",
       "1         2               The Batman   \n",
       "2         3                  No Exit   \n",
       "3         4                  Encanto   \n",
       "4         5           The King's Man   \n",
       "\n",
       "                                            Overview  \\\n",
       "0  Peter Parker is unmasked and no longer able to...   \n",
       "1  In his second year of fighting crime, Batman u...   \n",
       "2  Stranded at a rest stop in the mountains durin...   \n",
       "3  The tale of an extraordinary family, the Madri...   \n",
       "4  As a collection of history's worst tyrants and...   \n",
       "\n",
       "                                Genre  \\\n",
       "0  Action, Adventure, Science Fiction   \n",
       "1            Crime, Mystery, Thriller   \n",
       "2                            Thriller   \n",
       "3  Animation, Comedy, Family, Fantasy   \n",
       "4    Action, Adventure, Thriller, War   \n",
       "\n",
       "                                          Poster_Url Vote_Average  \n",
       "0  https://image.tmdb.org/t/p/original/1g0dhYtq4i...          8.3  \n",
       "1  https://image.tmdb.org/t/p/original/74xTEgt7R3...          8.1  \n",
       "2  https://image.tmdb.org/t/p/original/vDHsLnOWKl...          6.3  \n",
       "3  https://image.tmdb.org/t/p/original/4j0PNHkMr5...          7.7  \n",
       "4  https://image.tmdb.org/t/p/original/aq4Pwv5Xeu...            7  "
      ]
     },
     "execution_count": 5,
     "metadata": {},
     "output_type": "execute_result"
    }
   ],
   "source": [
    "movies.head()"
   ]
  },
  {
   "cell_type": "code",
   "execution_count": 6,
   "id": "0eb1f057-50c4-4594-850d-07aa65515d18",
   "metadata": {},
   "outputs": [
    {
     "data": {
      "text/plain": [
       "movie_id         0\n",
       "Title            9\n",
       "Overview         9\n",
       "Genre           11\n",
       "Poster_Url      11\n",
       "Vote_Average    10\n",
       "dtype: int64"
      ]
     },
     "execution_count": 6,
     "metadata": {},
     "output_type": "execute_result"
    }
   ],
   "source": [
    "movies.isnull().sum()"
   ]
  },
  {
   "cell_type": "code",
   "execution_count": 7,
   "id": "20e329ed-d0ef-4edb-94db-1e94ecd7fcb3",
   "metadata": {},
   "outputs": [],
   "source": [
    "movies.dropna(inplace=True)"
   ]
  },
  {
   "cell_type": "code",
   "execution_count": 8,
   "id": "620dada3-b27c-404c-8a25-542a54151c8f",
   "metadata": {},
   "outputs": [
    {
     "data": {
      "text/plain": [
       "np.int64(0)"
      ]
     },
     "execution_count": 8,
     "metadata": {},
     "output_type": "execute_result"
    }
   ],
   "source": [
    "movies.duplicated().sum()"
   ]
  },
  {
   "cell_type": "code",
   "execution_count": 9,
   "id": "92cc17ff-29c5-4eb1-8b2a-e2384d7b1737",
   "metadata": {},
   "outputs": [
    {
     "data": {
      "text/plain": [
       "'Action, Adventure, Science Fiction'"
      ]
     },
     "execution_count": 9,
     "metadata": {},
     "output_type": "execute_result"
    }
   ],
   "source": [
    "movies.iloc[0].Genre"
   ]
  },
  {
   "cell_type": "code",
   "execution_count": 10,
   "id": "8f30525a-aba0-4911-93e6-048f76dd3f2e",
   "metadata": {},
   "outputs": [],
   "source": [
    "movies['Overview'] = movies['Overview'].apply(lambda x:x.split())"
   ]
  },
  {
   "cell_type": "code",
   "execution_count": null,
   "id": "69cfd1e0-d645-4247-95c7-0f1c8004c974",
   "metadata": {},
   "outputs": [],
   "source": []
  },
  {
   "cell_type": "code",
   "execution_count": 11,
   "id": "61d38153-68cd-49e0-b9a8-677891af07b7",
   "metadata": {},
   "outputs": [
    {
     "data": {
      "text/html": [
       "<div>\n",
       "<style scoped>\n",
       "    .dataframe tbody tr th:only-of-type {\n",
       "        vertical-align: middle;\n",
       "    }\n",
       "\n",
       "    .dataframe tbody tr th {\n",
       "        vertical-align: top;\n",
       "    }\n",
       "\n",
       "    .dataframe thead th {\n",
       "        text-align: right;\n",
       "    }\n",
       "</style>\n",
       "<table border=\"1\" class=\"dataframe\">\n",
       "  <thead>\n",
       "    <tr style=\"text-align: right;\">\n",
       "      <th></th>\n",
       "      <th>movie_id</th>\n",
       "      <th>Title</th>\n",
       "      <th>Overview</th>\n",
       "      <th>Genre</th>\n",
       "      <th>Poster_Url</th>\n",
       "      <th>Vote_Average</th>\n",
       "    </tr>\n",
       "  </thead>\n",
       "  <tbody>\n",
       "    <tr>\n",
       "      <th>0</th>\n",
       "      <td>1</td>\n",
       "      <td>Spider-Man: No Way Home</td>\n",
       "      <td>[Peter, Parker, is, unmasked, and, no, longer,...</td>\n",
       "      <td>Action, Adventure, Science Fiction</td>\n",
       "      <td>https://image.tmdb.org/t/p/original/1g0dhYtq4i...</td>\n",
       "      <td>8.3</td>\n",
       "    </tr>\n",
       "    <tr>\n",
       "      <th>1</th>\n",
       "      <td>2</td>\n",
       "      <td>The Batman</td>\n",
       "      <td>[In, his, second, year, of, fighting, crime,, ...</td>\n",
       "      <td>Crime, Mystery, Thriller</td>\n",
       "      <td>https://image.tmdb.org/t/p/original/74xTEgt7R3...</td>\n",
       "      <td>8.1</td>\n",
       "    </tr>\n",
       "    <tr>\n",
       "      <th>2</th>\n",
       "      <td>3</td>\n",
       "      <td>No Exit</td>\n",
       "      <td>[Stranded, at, a, rest, stop, in, the, mountai...</td>\n",
       "      <td>Thriller</td>\n",
       "      <td>https://image.tmdb.org/t/p/original/vDHsLnOWKl...</td>\n",
       "      <td>6.3</td>\n",
       "    </tr>\n",
       "    <tr>\n",
       "      <th>3</th>\n",
       "      <td>4</td>\n",
       "      <td>Encanto</td>\n",
       "      <td>[The, tale, of, an, extraordinary, family,, th...</td>\n",
       "      <td>Animation, Comedy, Family, Fantasy</td>\n",
       "      <td>https://image.tmdb.org/t/p/original/4j0PNHkMr5...</td>\n",
       "      <td>7.7</td>\n",
       "    </tr>\n",
       "    <tr>\n",
       "      <th>4</th>\n",
       "      <td>5</td>\n",
       "      <td>The King's Man</td>\n",
       "      <td>[As, a, collection, of, history's, worst, tyra...</td>\n",
       "      <td>Action, Adventure, Thriller, War</td>\n",
       "      <td>https://image.tmdb.org/t/p/original/aq4Pwv5Xeu...</td>\n",
       "      <td>7</td>\n",
       "    </tr>\n",
       "  </tbody>\n",
       "</table>\n",
       "</div>"
      ],
      "text/plain": [
       "   movie_id                    Title  \\\n",
       "0         1  Spider-Man: No Way Home   \n",
       "1         2               The Batman   \n",
       "2         3                  No Exit   \n",
       "3         4                  Encanto   \n",
       "4         5           The King's Man   \n",
       "\n",
       "                                            Overview  \\\n",
       "0  [Peter, Parker, is, unmasked, and, no, longer,...   \n",
       "1  [In, his, second, year, of, fighting, crime,, ...   \n",
       "2  [Stranded, at, a, rest, stop, in, the, mountai...   \n",
       "3  [The, tale, of, an, extraordinary, family,, th...   \n",
       "4  [As, a, collection, of, history's, worst, tyra...   \n",
       "\n",
       "                                Genre  \\\n",
       "0  Action, Adventure, Science Fiction   \n",
       "1            Crime, Mystery, Thriller   \n",
       "2                            Thriller   \n",
       "3  Animation, Comedy, Family, Fantasy   \n",
       "4    Action, Adventure, Thriller, War   \n",
       "\n",
       "                                          Poster_Url Vote_Average  \n",
       "0  https://image.tmdb.org/t/p/original/1g0dhYtq4i...          8.3  \n",
       "1  https://image.tmdb.org/t/p/original/74xTEgt7R3...          8.1  \n",
       "2  https://image.tmdb.org/t/p/original/vDHsLnOWKl...          6.3  \n",
       "3  https://image.tmdb.org/t/p/original/4j0PNHkMr5...          7.7  \n",
       "4  https://image.tmdb.org/t/p/original/aq4Pwv5Xeu...            7  "
      ]
     },
     "execution_count": 11,
     "metadata": {},
     "output_type": "execute_result"
    }
   ],
   "source": [
    "movies.head()"
   ]
  },
  {
   "cell_type": "code",
   "execution_count": 12,
   "id": "ecfd561a-fcfb-4fa6-ab50-115813491cff",
   "metadata": {},
   "outputs": [],
   "source": [
    "def clean_genres(x):\n",
    "    if isinstance(x, str):\n",
    "        return [i.strip().replace(\" \", \"\") for i in x.split(',')]\n",
    "    elif isinstance(x, list):\n",
    "        return [i.strip().replace(\" \", \"\") for i in x]\n",
    "    else:\n",
    "        return []\n",
    "\n",
    "movies['Genre'] = movies['Genre'].apply(clean_genres)\n"
   ]
  },
  {
   "cell_type": "code",
   "execution_count": 13,
   "id": "09378d47-2ef3-4439-8524-987c2015a9e0",
   "metadata": {},
   "outputs": [],
   "source": [
    "movies['tags'] = movies['Overview'] + movies['Genre']"
   ]
  },
  {
   "cell_type": "code",
   "execution_count": 14,
   "id": "d9a92978-a7c3-40e9-acc4-307591c2c4da",
   "metadata": {},
   "outputs": [
    {
     "data": {
      "text/html": [
       "<div>\n",
       "<style scoped>\n",
       "    .dataframe tbody tr th:only-of-type {\n",
       "        vertical-align: middle;\n",
       "    }\n",
       "\n",
       "    .dataframe tbody tr th {\n",
       "        vertical-align: top;\n",
       "    }\n",
       "\n",
       "    .dataframe thead th {\n",
       "        text-align: right;\n",
       "    }\n",
       "</style>\n",
       "<table border=\"1\" class=\"dataframe\">\n",
       "  <thead>\n",
       "    <tr style=\"text-align: right;\">\n",
       "      <th></th>\n",
       "      <th>movie_id</th>\n",
       "      <th>Title</th>\n",
       "      <th>Overview</th>\n",
       "      <th>Genre</th>\n",
       "      <th>Poster_Url</th>\n",
       "      <th>Vote_Average</th>\n",
       "      <th>tags</th>\n",
       "    </tr>\n",
       "  </thead>\n",
       "  <tbody>\n",
       "    <tr>\n",
       "      <th>0</th>\n",
       "      <td>1</td>\n",
       "      <td>Spider-Man: No Way Home</td>\n",
       "      <td>[Peter, Parker, is, unmasked, and, no, longer,...</td>\n",
       "      <td>[Action, Adventure, ScienceFiction]</td>\n",
       "      <td>https://image.tmdb.org/t/p/original/1g0dhYtq4i...</td>\n",
       "      <td>8.3</td>\n",
       "      <td>[Peter, Parker, is, unmasked, and, no, longer,...</td>\n",
       "    </tr>\n",
       "    <tr>\n",
       "      <th>1</th>\n",
       "      <td>2</td>\n",
       "      <td>The Batman</td>\n",
       "      <td>[In, his, second, year, of, fighting, crime,, ...</td>\n",
       "      <td>[Crime, Mystery, Thriller]</td>\n",
       "      <td>https://image.tmdb.org/t/p/original/74xTEgt7R3...</td>\n",
       "      <td>8.1</td>\n",
       "      <td>[In, his, second, year, of, fighting, crime,, ...</td>\n",
       "    </tr>\n",
       "    <tr>\n",
       "      <th>2</th>\n",
       "      <td>3</td>\n",
       "      <td>No Exit</td>\n",
       "      <td>[Stranded, at, a, rest, stop, in, the, mountai...</td>\n",
       "      <td>[Thriller]</td>\n",
       "      <td>https://image.tmdb.org/t/p/original/vDHsLnOWKl...</td>\n",
       "      <td>6.3</td>\n",
       "      <td>[Stranded, at, a, rest, stop, in, the, mountai...</td>\n",
       "    </tr>\n",
       "    <tr>\n",
       "      <th>3</th>\n",
       "      <td>4</td>\n",
       "      <td>Encanto</td>\n",
       "      <td>[The, tale, of, an, extraordinary, family,, th...</td>\n",
       "      <td>[Animation, Comedy, Family, Fantasy]</td>\n",
       "      <td>https://image.tmdb.org/t/p/original/4j0PNHkMr5...</td>\n",
       "      <td>7.7</td>\n",
       "      <td>[The, tale, of, an, extraordinary, family,, th...</td>\n",
       "    </tr>\n",
       "    <tr>\n",
       "      <th>4</th>\n",
       "      <td>5</td>\n",
       "      <td>The King's Man</td>\n",
       "      <td>[As, a, collection, of, history's, worst, tyra...</td>\n",
       "      <td>[Action, Adventure, Thriller, War]</td>\n",
       "      <td>https://image.tmdb.org/t/p/original/aq4Pwv5Xeu...</td>\n",
       "      <td>7</td>\n",
       "      <td>[As, a, collection, of, history's, worst, tyra...</td>\n",
       "    </tr>\n",
       "  </tbody>\n",
       "</table>\n",
       "</div>"
      ],
      "text/plain": [
       "   movie_id                    Title  \\\n",
       "0         1  Spider-Man: No Way Home   \n",
       "1         2               The Batman   \n",
       "2         3                  No Exit   \n",
       "3         4                  Encanto   \n",
       "4         5           The King's Man   \n",
       "\n",
       "                                            Overview  \\\n",
       "0  [Peter, Parker, is, unmasked, and, no, longer,...   \n",
       "1  [In, his, second, year, of, fighting, crime,, ...   \n",
       "2  [Stranded, at, a, rest, stop, in, the, mountai...   \n",
       "3  [The, tale, of, an, extraordinary, family,, th...   \n",
       "4  [As, a, collection, of, history's, worst, tyra...   \n",
       "\n",
       "                                  Genre  \\\n",
       "0   [Action, Adventure, ScienceFiction]   \n",
       "1            [Crime, Mystery, Thriller]   \n",
       "2                            [Thriller]   \n",
       "3  [Animation, Comedy, Family, Fantasy]   \n",
       "4    [Action, Adventure, Thriller, War]   \n",
       "\n",
       "                                          Poster_Url Vote_Average  \\\n",
       "0  https://image.tmdb.org/t/p/original/1g0dhYtq4i...          8.3   \n",
       "1  https://image.tmdb.org/t/p/original/74xTEgt7R3...          8.1   \n",
       "2  https://image.tmdb.org/t/p/original/vDHsLnOWKl...          6.3   \n",
       "3  https://image.tmdb.org/t/p/original/4j0PNHkMr5...          7.7   \n",
       "4  https://image.tmdb.org/t/p/original/aq4Pwv5Xeu...            7   \n",
       "\n",
       "                                                tags  \n",
       "0  [Peter, Parker, is, unmasked, and, no, longer,...  \n",
       "1  [In, his, second, year, of, fighting, crime,, ...  \n",
       "2  [Stranded, at, a, rest, stop, in, the, mountai...  \n",
       "3  [The, tale, of, an, extraordinary, family,, th...  \n",
       "4  [As, a, collection, of, history's, worst, tyra...  "
      ]
     },
     "execution_count": 14,
     "metadata": {},
     "output_type": "execute_result"
    }
   ],
   "source": [
    "movies.head()"
   ]
  },
  {
   "cell_type": "code",
   "execution_count": 75,
   "id": "774cc29d-c027-47b5-b3a5-42af4750733d",
   "metadata": {},
   "outputs": [],
   "source": [
    "new_df = movies[['movie_id','Title','tags','Poster_Url']]"
   ]
  },
  {
   "cell_type": "code",
   "execution_count": 76,
   "id": "163c8e28-cbdd-4ae0-a837-41f044bb5080",
   "metadata": {},
   "outputs": [
    {
     "name": "stderr",
     "output_type": "stream",
     "text": [
      "C:\\Users\\jaide\\AppData\\Local\\Temp\\ipykernel_18404\\3089450492.py:1: SettingWithCopyWarning: \n",
      "A value is trying to be set on a copy of a slice from a DataFrame.\n",
      "Try using .loc[row_indexer,col_indexer] = value instead\n",
      "\n",
      "See the caveats in the documentation: https://pandas.pydata.org/pandas-docs/stable/user_guide/indexing.html#returning-a-view-versus-a-copy\n",
      "  new_df['tags'] = new_df['tags'].apply(lambda x:\" \".join(x))\n"
     ]
    }
   ],
   "source": [
    "new_df['tags'] = new_df['tags'].apply(lambda x:\" \".join(x))"
   ]
  },
  {
   "cell_type": "code",
   "execution_count": 77,
   "id": "dae3f455-1012-4a15-8164-f777abeba96d",
   "metadata": {},
   "outputs": [
    {
     "data": {
      "text/html": [
       "<div>\n",
       "<style scoped>\n",
       "    .dataframe tbody tr th:only-of-type {\n",
       "        vertical-align: middle;\n",
       "    }\n",
       "\n",
       "    .dataframe tbody tr th {\n",
       "        vertical-align: top;\n",
       "    }\n",
       "\n",
       "    .dataframe thead th {\n",
       "        text-align: right;\n",
       "    }\n",
       "</style>\n",
       "<table border=\"1\" class=\"dataframe\">\n",
       "  <thead>\n",
       "    <tr style=\"text-align: right;\">\n",
       "      <th></th>\n",
       "      <th>movie_id</th>\n",
       "      <th>Title</th>\n",
       "      <th>tags</th>\n",
       "      <th>Poster_Url</th>\n",
       "    </tr>\n",
       "  </thead>\n",
       "  <tbody>\n",
       "    <tr>\n",
       "      <th>0</th>\n",
       "      <td>1</td>\n",
       "      <td>Spider-Man: No Way Home</td>\n",
       "      <td>Peter Parker is unmasked and no longer able to...</td>\n",
       "      <td>https://image.tmdb.org/t/p/original/1g0dhYtq4i...</td>\n",
       "    </tr>\n",
       "    <tr>\n",
       "      <th>1</th>\n",
       "      <td>2</td>\n",
       "      <td>The Batman</td>\n",
       "      <td>In his second year of fighting crime, Batman u...</td>\n",
       "      <td>https://image.tmdb.org/t/p/original/74xTEgt7R3...</td>\n",
       "    </tr>\n",
       "    <tr>\n",
       "      <th>2</th>\n",
       "      <td>3</td>\n",
       "      <td>No Exit</td>\n",
       "      <td>Stranded at a rest stop in the mountains durin...</td>\n",
       "      <td>https://image.tmdb.org/t/p/original/vDHsLnOWKl...</td>\n",
       "    </tr>\n",
       "    <tr>\n",
       "      <th>3</th>\n",
       "      <td>4</td>\n",
       "      <td>Encanto</td>\n",
       "      <td>The tale of an extraordinary family, the Madri...</td>\n",
       "      <td>https://image.tmdb.org/t/p/original/4j0PNHkMr5...</td>\n",
       "    </tr>\n",
       "    <tr>\n",
       "      <th>4</th>\n",
       "      <td>5</td>\n",
       "      <td>The King's Man</td>\n",
       "      <td>As a collection of history's worst tyrants and...</td>\n",
       "      <td>https://image.tmdb.org/t/p/original/aq4Pwv5Xeu...</td>\n",
       "    </tr>\n",
       "  </tbody>\n",
       "</table>\n",
       "</div>"
      ],
      "text/plain": [
       "   movie_id                    Title  \\\n",
       "0         1  Spider-Man: No Way Home   \n",
       "1         2               The Batman   \n",
       "2         3                  No Exit   \n",
       "3         4                  Encanto   \n",
       "4         5           The King's Man   \n",
       "\n",
       "                                                tags  \\\n",
       "0  Peter Parker is unmasked and no longer able to...   \n",
       "1  In his second year of fighting crime, Batman u...   \n",
       "2  Stranded at a rest stop in the mountains durin...   \n",
       "3  The tale of an extraordinary family, the Madri...   \n",
       "4  As a collection of history's worst tyrants and...   \n",
       "\n",
       "                                          Poster_Url  \n",
       "0  https://image.tmdb.org/t/p/original/1g0dhYtq4i...  \n",
       "1  https://image.tmdb.org/t/p/original/74xTEgt7R3...  \n",
       "2  https://image.tmdb.org/t/p/original/vDHsLnOWKl...  \n",
       "3  https://image.tmdb.org/t/p/original/4j0PNHkMr5...  \n",
       "4  https://image.tmdb.org/t/p/original/aq4Pwv5Xeu...  "
      ]
     },
     "execution_count": 77,
     "metadata": {},
     "output_type": "execute_result"
    }
   ],
   "source": [
    "new_df.head()"
   ]
  },
  {
   "cell_type": "code",
   "execution_count": 78,
   "id": "0b8a0016-3ac7-456b-95fc-31a042fd8078",
   "metadata": {},
   "outputs": [
    {
     "data": {
      "text/plain": [
       "'Peter Parker is unmasked and no longer able to separate his normal life from the high-stakes of being a super-hero. When he asks for help from Doctor Strange the stakes become even more dangerous, forcing him to discover what it truly means to be Spider-Man. Action Adventure ScienceFiction'"
      ]
     },
     "execution_count": 78,
     "metadata": {},
     "output_type": "execute_result"
    }
   ],
   "source": [
    "new_df['tags'][0]\n"
   ]
  },
  {
   "cell_type": "code",
   "execution_count": 79,
   "id": "5645c2ec-dcdb-4f4c-847b-1939923eaf32",
   "metadata": {},
   "outputs": [
    {
     "name": "stderr",
     "output_type": "stream",
     "text": [
      "C:\\Users\\jaide\\AppData\\Local\\Temp\\ipykernel_18404\\3214958533.py:1: SettingWithCopyWarning: \n",
      "A value is trying to be set on a copy of a slice from a DataFrame.\n",
      "Try using .loc[row_indexer,col_indexer] = value instead\n",
      "\n",
      "See the caveats in the documentation: https://pandas.pydata.org/pandas-docs/stable/user_guide/indexing.html#returning-a-view-versus-a-copy\n",
      "  new_df['tags'] = new_df['tags'].apply(lambda x:x.lower())\n"
     ]
    }
   ],
   "source": [
    "new_df['tags'] = new_df['tags'].apply(lambda x:x.lower())"
   ]
  },
  {
   "cell_type": "code",
   "execution_count": 80,
   "id": "d878a816-befa-4809-92ec-03dab7eb54f5",
   "metadata": {},
   "outputs": [
    {
     "data": {
      "text/html": [
       "<div>\n",
       "<style scoped>\n",
       "    .dataframe tbody tr th:only-of-type {\n",
       "        vertical-align: middle;\n",
       "    }\n",
       "\n",
       "    .dataframe tbody tr th {\n",
       "        vertical-align: top;\n",
       "    }\n",
       "\n",
       "    .dataframe thead th {\n",
       "        text-align: right;\n",
       "    }\n",
       "</style>\n",
       "<table border=\"1\" class=\"dataframe\">\n",
       "  <thead>\n",
       "    <tr style=\"text-align: right;\">\n",
       "      <th></th>\n",
       "      <th>movie_id</th>\n",
       "      <th>Title</th>\n",
       "      <th>tags</th>\n",
       "      <th>Poster_Url</th>\n",
       "    </tr>\n",
       "  </thead>\n",
       "  <tbody>\n",
       "    <tr>\n",
       "      <th>0</th>\n",
       "      <td>1</td>\n",
       "      <td>Spider-Man: No Way Home</td>\n",
       "      <td>peter parker is unmasked and no longer able to...</td>\n",
       "      <td>https://image.tmdb.org/t/p/original/1g0dhYtq4i...</td>\n",
       "    </tr>\n",
       "    <tr>\n",
       "      <th>1</th>\n",
       "      <td>2</td>\n",
       "      <td>The Batman</td>\n",
       "      <td>in his second year of fighting crime, batman u...</td>\n",
       "      <td>https://image.tmdb.org/t/p/original/74xTEgt7R3...</td>\n",
       "    </tr>\n",
       "    <tr>\n",
       "      <th>2</th>\n",
       "      <td>3</td>\n",
       "      <td>No Exit</td>\n",
       "      <td>stranded at a rest stop in the mountains durin...</td>\n",
       "      <td>https://image.tmdb.org/t/p/original/vDHsLnOWKl...</td>\n",
       "    </tr>\n",
       "    <tr>\n",
       "      <th>3</th>\n",
       "      <td>4</td>\n",
       "      <td>Encanto</td>\n",
       "      <td>the tale of an extraordinary family, the madri...</td>\n",
       "      <td>https://image.tmdb.org/t/p/original/4j0PNHkMr5...</td>\n",
       "    </tr>\n",
       "    <tr>\n",
       "      <th>4</th>\n",
       "      <td>5</td>\n",
       "      <td>The King's Man</td>\n",
       "      <td>as a collection of history's worst tyrants and...</td>\n",
       "      <td>https://image.tmdb.org/t/p/original/aq4Pwv5Xeu...</td>\n",
       "    </tr>\n",
       "  </tbody>\n",
       "</table>\n",
       "</div>"
      ],
      "text/plain": [
       "   movie_id                    Title  \\\n",
       "0         1  Spider-Man: No Way Home   \n",
       "1         2               The Batman   \n",
       "2         3                  No Exit   \n",
       "3         4                  Encanto   \n",
       "4         5           The King's Man   \n",
       "\n",
       "                                                tags  \\\n",
       "0  peter parker is unmasked and no longer able to...   \n",
       "1  in his second year of fighting crime, batman u...   \n",
       "2  stranded at a rest stop in the mountains durin...   \n",
       "3  the tale of an extraordinary family, the madri...   \n",
       "4  as a collection of history's worst tyrants and...   \n",
       "\n",
       "                                          Poster_Url  \n",
       "0  https://image.tmdb.org/t/p/original/1g0dhYtq4i...  \n",
       "1  https://image.tmdb.org/t/p/original/74xTEgt7R3...  \n",
       "2  https://image.tmdb.org/t/p/original/vDHsLnOWKl...  \n",
       "3  https://image.tmdb.org/t/p/original/4j0PNHkMr5...  \n",
       "4  https://image.tmdb.org/t/p/original/aq4Pwv5Xeu...  "
      ]
     },
     "execution_count": 80,
     "metadata": {},
     "output_type": "execute_result"
    }
   ],
   "source": [
    "new_df.head()"
   ]
  },
  {
   "cell_type": "code",
   "execution_count": 81,
   "id": "22de5a18-734c-4699-89b8-44b4c1770e07",
   "metadata": {},
   "outputs": [],
   "source": [
    "import nltk\n",
    "from nltk.stem.porter import PorterStemmer\n",
    "ps = PorterStemmer()"
   ]
  },
  {
   "cell_type": "code",
   "execution_count": 82,
   "id": "d2a27506-a609-470f-a102-f1caf1ab4352",
   "metadata": {},
   "outputs": [],
   "source": [
    "def stem(text):\n",
    "    y=[]\n",
    "    for i in text.split():\n",
    "        y.append(ps.stem(i))\n",
    "        return \" \".join(y)"
   ]
  },
  {
   "cell_type": "code",
   "execution_count": 83,
   "id": "21d66b02-c691-4c01-9489-f0ccac842f07",
   "metadata": {},
   "outputs": [
    {
     "name": "stderr",
     "output_type": "stream",
     "text": [
      "C:\\Users\\jaide\\AppData\\Local\\Temp\\ipykernel_18404\\3213734980.py:1: SettingWithCopyWarning: \n",
      "A value is trying to be set on a copy of a slice from a DataFrame.\n",
      "Try using .loc[row_indexer,col_indexer] = value instead\n",
      "\n",
      "See the caveats in the documentation: https://pandas.pydata.org/pandas-docs/stable/user_guide/indexing.html#returning-a-view-versus-a-copy\n",
      "  new_df['tags'] = new_df['tags'].apply(stem)\n"
     ]
    }
   ],
   "source": [
    "new_df['tags'] = new_df['tags'].apply(stem)"
   ]
  },
  {
   "cell_type": "code",
   "execution_count": 84,
   "id": "4b2c5c47-257b-4968-8154-954a6905dd46",
   "metadata": {},
   "outputs": [],
   "source": [
    "from sklearn.feature_extraction.text import CountVectorizer\n",
    "cv = CountVectorizer(max_features=3000,stop_words='english')  "
   ]
  },
  {
   "cell_type": "code",
   "execution_count": null,
   "id": "d725e616-c99f-42d4-8e1b-771f186450dd",
   "metadata": {},
   "outputs": [],
   "source": []
  },
  {
   "cell_type": "code",
   "execution_count": 85,
   "id": "6a5f8712-d30b-4c31-b354-59c1491ca73b",
   "metadata": {},
   "outputs": [],
   "source": [
    "vectors = cv.fit_transform(new_df['tags']).toarray()"
   ]
  },
  {
   "cell_type": "code",
   "execution_count": 86,
   "id": "93ee55e9-4332-4042-ab97-e53fd1071a87",
   "metadata": {},
   "outputs": [
    {
     "data": {
      "text/plain": [
       "array(['000', '10', '100', ..., 'zu', 'ángela', 'émili'],\n",
       "      shape=(2224,), dtype=object)"
      ]
     },
     "execution_count": 86,
     "metadata": {},
     "output_type": "execute_result"
    }
   ],
   "source": [
    "cv.get_feature_names_out()"
   ]
  },
  {
   "cell_type": "code",
   "execution_count": 87,
   "id": "35ee1aff-1ffc-4aad-8921-872cc809b0ad",
   "metadata": {},
   "outputs": [],
   "source": [
    "from sklearn.metrics.pairwise import cosine_similarity"
   ]
  },
  {
   "cell_type": "code",
   "execution_count": 88,
   "id": "03ffcff2-2a9c-4a36-b773-d1fa73f83831",
   "metadata": {},
   "outputs": [],
   "source": [
    "similarity = cosine_similarity(vectors)"
   ]
  },
  {
   "cell_type": "code",
   "execution_count": null,
   "id": "1f95799b-590c-4f07-b4bb-18d8f3b06934",
   "metadata": {},
   "outputs": [],
   "source": []
  },
  {
   "cell_type": "code",
   "execution_count": 89,
   "id": "812ed65b-4c41-407b-a461-7d92e2af3576",
   "metadata": {},
   "outputs": [],
   "source": [
    "def recommend(movie):\n",
    "    movie_index = new_df[new_df['Title'] == movie].index[0]\n",
    "    distances = similarity[movie_index]\n",
    "    movies_list = sorted(list(enumerate(distances)),reverse=True,key=lambda x:x[1])[0:6]\n",
    "\n",
    "    for i in movies_list:\n",
    "        print(new_df.iloc[i[0]].Title)"
   ]
  },
  {
   "cell_type": "code",
   "execution_count": 90,
   "id": "7492681e-e81c-47ba-b615-a3b2cd34eca7",
   "metadata": {},
   "outputs": [],
   "source": [
    "import pickle"
   ]
  },
  {
   "cell_type": "code",
   "execution_count": 91,
   "id": "00aec235-ed63-4fce-b226-06cbab28358f",
   "metadata": {},
   "outputs": [],
   "source": [
    "pickle.dump(new_df,open('movies.pkl','wb'))"
   ]
  },
  {
   "cell_type": "code",
   "execution_count": 92,
   "id": "75758b49-df60-4b85-9b4b-6cf19eb27b7c",
   "metadata": {},
   "outputs": [],
   "source": [
    "pickle.dump(similarity,open('similarity.pkl','wb'))"
   ]
  },
  {
   "cell_type": "code",
   "execution_count": null,
   "id": "f1f6b891-1847-416b-aa71-0a03538bf0c8",
   "metadata": {},
   "outputs": [],
   "source": []
  },
  {
   "cell_type": "code",
   "execution_count": null,
   "id": "85d6cbb6-bb75-4b92-8e9c-cf79caa60e9b",
   "metadata": {},
   "outputs": [],
   "source": []
  },
  {
   "cell_type": "code",
   "execution_count": null,
   "id": "0909ce1c-c89a-4d67-b0d6-b9452bcd7fc1",
   "metadata": {},
   "outputs": [],
   "source": []
  },
  {
   "cell_type": "code",
   "execution_count": null,
   "id": "10689771-2df0-47ed-ab39-5f44ba6b3f8b",
   "metadata": {},
   "outputs": [],
   "source": []
  },
  {
   "cell_type": "code",
   "execution_count": null,
   "id": "da47c321-ec64-42d5-b6fc-47b62d77c13d",
   "metadata": {},
   "outputs": [],
   "source": []
  },
  {
   "cell_type": "code",
   "execution_count": null,
   "id": "8fb1424d-cea2-44a0-ad88-cdcba7745d22",
   "metadata": {},
   "outputs": [],
   "source": []
  },
  {
   "cell_type": "code",
   "execution_count": null,
   "id": "aa7645f1-7657-4969-b7a7-4fbe86ccf2f8",
   "metadata": {},
   "outputs": [],
   "source": []
  },
  {
   "cell_type": "code",
   "execution_count": null,
   "id": "431ddf75-fc59-4189-a7d2-9d6ae1db5b0f",
   "metadata": {},
   "outputs": [],
   "source": []
  },
  {
   "cell_type": "code",
   "execution_count": null,
   "id": "789a91b0-18a1-4817-a7c1-194cee39b273",
   "metadata": {},
   "outputs": [],
   "source": []
  },
  {
   "cell_type": "code",
   "execution_count": null,
   "id": "44a9757a-124e-4cbf-ae54-1c8bb3e6a0c3",
   "metadata": {},
   "outputs": [],
   "source": []
  }
 ],
 "metadata": {
  "kernelspec": {
   "display_name": "Python 3 (ipykernel)",
   "language": "python",
   "name": "python3"
  },
  "language_info": {
   "codemirror_mode": {
    "name": "ipython",
    "version": 3
   },
   "file_extension": ".py",
   "mimetype": "text/x-python",
   "name": "python",
   "nbconvert_exporter": "python",
   "pygments_lexer": "ipython3",
   "version": "3.12.3"
  }
 },
 "nbformat": 4,
 "nbformat_minor": 5
}
